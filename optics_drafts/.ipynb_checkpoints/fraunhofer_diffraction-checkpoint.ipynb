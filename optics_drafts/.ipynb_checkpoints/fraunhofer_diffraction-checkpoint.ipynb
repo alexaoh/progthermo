{
 "cells": [
  {
   "cell_type": "markdown",
   "metadata": {},
   "source": [
    "## Fraunhofer Diffraction\n",
    "\n",
    "Here, we will plot the diffraction patterns that are shown on a screen at a far distance from a slit configuration. The screen is far enough from the slits that the far field approximations may be used. This is commonly labeled as *Fraunhofer diffraction* named after Fraunhofer. \n",
    "\n",
    "The use of *ipywidgets* will also come in handy, to make the illustrations and plots more interactive for the user of this notebook. "
   ]
  },
  {
   "cell_type": "markdown",
   "metadata": {},
   "source": [
    "### Install ipywidgets\n",
    "\n",
    "> conda install -c conda-forge ipywidgets\n",
    "\n",
    "\n",
    "### Get slightly acquainted with ipywidgets"
   ]
  },
  {
   "cell_type": "code",
   "execution_count": 2,
   "metadata": {},
   "outputs": [
    {
     "data": {
      "application/vnd.jupyter.widget-view+json": {
       "model_id": "874f4edb42524c2292fa06d6a98a5b8f",
       "version_major": 2,
       "version_minor": 0
      },
      "text/plain": [
       "interactive(children=(IntSlider(value=10, description='x', max=30, min=-10), Output()), _dom_classes=('widget-…"
      ]
     },
     "metadata": {},
     "output_type": "display_data"
    },
    {
     "data": {
      "application/vnd.jupyter.widget-view+json": {
       "model_id": "d6a9bd1f548949c89526c411d767b115",
       "version_major": 2,
       "version_minor": 0
      },
      "text/plain": [
       "interactive(children=(IntSlider(value=10, description='x', max=30, min=-10), Button(description='Run Interact'…"
      ]
     },
     "metadata": {},
     "output_type": "display_data"
    },
    {
     "data": {
      "application/vnd.jupyter.widget-view+json": {
       "model_id": "97fc642e72b240f991fe2dfab5265536",
       "version_major": 2,
       "version_minor": 0
      },
      "text/plain": [
       "interactive(children=(IntSlider(value=10, continuous_update=False, description='x', max=30, min=-10), Output()…"
      ]
     },
     "metadata": {},
     "output_type": "display_data"
    },
    {
     "data": {
      "application/vnd.jupyter.widget-view+json": {
       "model_id": "91c48801161a47eaa96f9b8fb2811a04",
       "version_major": 2,
       "version_minor": 0
      },
      "text/plain": [
       "HBox(children=(IntSlider(value=0), IntSlider(value=0, orientation='vertical'), IntSlider(value=10, continuous_…"
      ]
     },
     "metadata": {},
     "output_type": "display_data"
    },
    {
     "data": {
      "application/vnd.jupyter.widget-view+json": {
       "model_id": "1685d44fb25a441492196e14fc4866fe",
       "version_major": 2,
       "version_minor": 0
      },
      "text/plain": [
       "Output()"
      ]
     },
     "metadata": {},
     "output_type": "display_data"
    }
   ],
   "source": [
    "from ipywidgets import interact, interactive, fixed, interact_manual\n",
    "import ipywidgets as widgets\n",
    "\n",
    "def f(x):\n",
    "     return \"number \"+str(x)\n",
    "    \n",
    "# Makes an integer slider that updates continuously. \n",
    "interact(f, x = 10)\n",
    "    \n",
    "# Makes a button to start the interact manually. \n",
    "interact_manual(f, x = 10)\n",
    "\n",
    "# Makes the same slider as before, but updates on mouse-release. \n",
    "interact(f, x = widgets.IntSlider(min=-10, max=30, step=1, continuous_update=False, value = 10))\n",
    "\n",
    "def g(a, b, c):\n",
    "    print(a + b + c)\n",
    "\n",
    "# Set UI yourself. \n",
    "a = widgets.IntSlider()\n",
    "b = widgets.IntSlider(orientation=\"vertical\")\n",
    "c = widgets.IntSlider(min=-10, max=30, step=1, continuous_update=False, value = 10)\n",
    "ui = widgets.HBox([a, b, c])\n",
    "out = widgets.interactive_output(g, {'a': a, 'b': b, 'c': c}) # Interactive output makes it possible to change ui.\n",
    "display(ui, out)\n",
    "\n",
    "# Could add buttons and on-click events, and much more if that is desired. \n",
    "# There are loads of possibilities presented by the module. \n",
    "# Check docs for more information. "
   ]
  },
  {
   "cell_type": "markdown",
   "metadata": {},
   "source": [
    "## Plot slit and diffraction pattern on screen\n",
    "Intensitet (Irradiance) er gitt som \n",
    "$$\n",
    "    I = \\frac{cn\\epsilon_0}{2}|E|^2,\n",
    "$$\n",
    "\n",
    "der $E$, for Fraunhofer diffraksjon, er gitt som\n",
    "\n",
    "$$\n",
    "    E = \\frac{\\sin \\left(\\frac{\\Psi}{2}\\right)}{\\frac{\\Psi}{2}}. \n",
    "$$\n",
    "\n",
    "der \n",
    "\n",
    "$$\n",
    "    \\Psi = \\frac{2\\pi a \\sin(\\theta)}{\\lambda }. \n",
    "$$\n",
    "\n",
    "der $a$ er lengden til åpningen. Faktoren $sin(\\theta)$ vil tilnærmes i Fraunhofer beskrivelsen av diffraksjon. Dette skal vi komme til."
   ]
  },
  {
   "cell_type": "code",
   "execution_count": 3,
   "metadata": {},
   "outputs": [
    {
     "data": {
      "application/vnd.jupyter.widget-view+json": {
       "model_id": "5c288f64fe2f4ef781a100578fb1b757",
       "version_major": 2,
       "version_minor": 0
      },
      "text/plain": [
       "HTML(value='<b>ipywidget \"GUI\"</b>')"
      ]
     },
     "metadata": {},
     "output_type": "display_data"
    },
    {
     "data": {
      "application/vnd.jupyter.widget-view+json": {
       "model_id": "0111c2d2da814291b78bc7747a54b84e",
       "version_major": 2,
       "version_minor": 0
      },
      "text/plain": [
       "interactive(children=(IntSlider(value=-10, description='xmin', max=-2, min=-20), IntSlider(value=10, descripti…"
      ]
     },
     "metadata": {},
     "output_type": "display_data"
    }
   ],
   "source": [
    "#%matplotlib widget Could install ipympl for this (extra functionality for plots.)\n",
    "import numpy as np\n",
    "import matplotlib.pyplot as plt\n",
    "\n",
    "# make a mathematical rect() function\n",
    "def rect(x, height = 1, width = 0.5): # Needs to be scaled accordingly with the sinc-function!\n",
    "    \"\"\"Mathematical rect function.\"\"\"\n",
    "    return np.where(abs(x)<=width, height, 0)\n",
    "\n",
    "\n",
    "def sinc(*, x, amp, freq, width = 0.5): # missing appropriate scaling to fit with reect-function-slit\n",
    "    \"\"\"Mathematical sinc function.\"\"\"\n",
    "    return 1*amp if x == 0 else amp*np.sin(freq*x)/(freq*x)\n",
    "\n",
    "# Display some html with ipywidget's widget HTML. \n",
    "html = widgets.HTML(\n",
    "    value='<b>ipywidget \"GUI\"</b>', \n",
    "    description=''\n",
    ")\n",
    "\n",
    "display(html)\n",
    "\n",
    "# Make theplot interactive with a decorator. \n",
    "@interact(xmin = (-20, -2, 1), xmax = (2, 20, 1), amp = (1, 3, 0.3), freq = (1, 20, 0.5))\n",
    "def plot1(xmin = -10, xmax = 10, amp = 1, freq = 1):\n",
    "    x = np.linspace(xmin, xmax, 100)\n",
    "    fig = plt.figure(figsize=(8,5))\n",
    "    ax = fig.add_subplot(111)\n",
    "    ax.plot(x, rect(x), 'k', label=\"Slit (Aperture func)\")\n",
    "    screen_y = 4\n",
    "    y = np.array([sinc(x = i, amp = amp, freq = freq) for i in x]) # sinc\n",
    "    ax.plot(x,y + screen_y, color=\"orange\", label=\"Diff. Patt.\") \n",
    "    # needs some scaling!\n",
    "    ax.hlines(screen_y, xmin, xmax, linestyles=\"dashed\", colors=\"black\", label=\"Screen\")\n",
    "    ax.set_ylim(-0.5, max(y) + 0.5 + screen_y)\n",
    "    fig.suptitle(\"Slit and Diffraction Pattern (Fraunhofer)\")\n",
    "    plt.legend(loc = 1)\n",
    "    plt.show()\n",
    "\n",
    "# The diffraction pattern on the screen from this slit is (derived in theory).\n",
    "\n",
    "# Based solely on theoretical expressions. \n",
    "\n",
    "# Add more arguments to the function and the decorator!"
   ]
  },
  {
   "cell_type": "markdown",
   "metadata": {},
   "source": [
    "### Make same GUI, without continuous update\n",
    "\n",
    "The above is fine. However, I find that I don't want the plot to change immediately upon touching the sliders. Instead, it can be made so that it changes only when the slider is released. Have a look in the upcoming cell. Here we will make a larger GUI-application also. The earlier cell shows how easily it could be done however, if you are not too particular about the details right away. \n",
    "\n",
    "The GUI made here was inspired by [this great article](https://kapernikov.com/ipywidgets-with-matplotlib/)\\, in conjunction with the docs, as usual.  "
   ]
  },
  {
   "cell_type": "code",
   "execution_count": 4,
   "metadata": {},
   "outputs": [
    {
     "data": {
      "application/vnd.jupyter.widget-view+json": {
       "model_id": "1fec0c42b7084ad0ba0531599ce5423b",
       "version_major": 2,
       "version_minor": 0
      },
      "text/plain": [
       "HBox(children=(VBox(children=(IntRangeSlider(value=(-10, 10), continuous_update=False, description='$x$', max=…"
      ]
     },
     "metadata": {},
     "output_type": "display_data"
    }
   ],
   "source": [
    "output = widgets.Output()\n",
    "\n",
    "x = np.linspace(-10, 10, 100)\n",
    "\n",
    "def plotting(x):\n",
    "    ax.plot(x, rect(x), 'k', label=\"Slit (Aperture func)\")\n",
    "    screen_y = 4\n",
    "    y = np.array([sinc(x = i, amp = 1, freq = 1) for i in x]) # sinc\n",
    "    ax.plot(x,y + screen_y, color=\"orange\", label=\"Diff. Patt.\") \n",
    "    # needs some scaling!\n",
    "    ax.hlines(screen_y, -10, 10, linestyles=\"dashed\", colors=\"black\", label=\"Screen\")\n",
    "    ax.set_ylim(-0.5, max(y) + 0.5 + screen_y)\n",
    "    fig.suptitle(\"Slit and Diffraction Pattern (Fraunhofer)\")\n",
    "    plt.legend(loc = 1)\n",
    "    plt.show()\n",
    "    \n",
    "with output: \n",
    "    fig = plt.figure(figsize=(8,5), constrained_layout=True)\n",
    "    ax = fig.add_subplot(111)\n",
    "    plotting(x)\n",
    "    \n",
    "\n",
    "def update_x(change):\n",
    "    print(change.new)\n",
    "    x = np.linspace(change.new[0], change.new[1], 100)\n",
    "    \n",
    "def on_button_clicked(b):\n",
    "    \"\"\"Update/redraw plot.\"\"\"\n",
    "    # Need to get all values from other updated functions into this one!\n",
    "    # I think this is possible when making an object! Read more in the article perhaps! And in the docs. \n",
    "    print(\"Plot Redrawn\")\n",
    "    \n",
    "int_slider_x = widgets.IntRangeSlider(\n",
    "    value=(-10, 10), \n",
    "    min=-20, max=20, step=1,\n",
    "    description='$x$',\n",
    "    continuous_update=False\n",
    ")\n",
    "\n",
    "button = widgets.Button(description=\"Update Plot\")\n",
    "\n",
    "# Connect widgets to callbacks. \n",
    "int_slider_x.observe(update_x, 'value')\n",
    "button.on_click(on_button_clicked)\n",
    "controls = widgets.VBox([int_slider_x, button])\n",
    "widgets.HBox([controls, output])\n",
    "\n",
    "# This is not necessary, but could be a nice way to enforce OOP and making a nicer GUI than \n",
    "# what is shown in the former cell. "
   ]
  },
  {
   "cell_type": "markdown",
   "metadata": {},
   "source": [
    "### Calculate the Fourier Transform of the rect function\n",
    "\n",
    "Use this calculation to show that it is the same result as in theory (plotted earlier). The Fourier Transform should be calculated discretely, via *Discrete Fourier Transform* (DFT), by the method called *Fast Fourier Transform* (FFT). This is implemented in scipy already, which is very convenient. "
   ]
  },
  {
   "cell_type": "code",
   "execution_count": 4,
   "metadata": {},
   "outputs": [
    {
     "data": {
      "image/png": "[encoded data removed]",
      "text/plain": [
       "<Figure size 432x288 with 1 Axes>"
      ]
     },
     "metadata": {
      "needs_background": "light"
     },
     "output_type": "display_data"
    }
   ],
   "source": [
    "from scipy.fft import fft, ifft, fft2, ifft2\n",
    "\n",
    "y = rect(x)\n",
    "yfft = fft(y)\n",
    "plt.plot(x, np.abs(yfft))\n",
    "plt.title(\"Fourier Transform of Rect\")\n",
    "plt.show()\n",
    "\n",
    "# This is not the correct way to transform I think!\n",
    "\n",
    "# I like the idea, but the theory is wrong here! Need to research this a bit further! \n",
    "# This could / should probably be left to the project instead!"
   ]
  },
  {
   "cell_type": "markdown",
   "metadata": {},
   "source": [
    "### Diffraction from a rectangular aperture\n",
    "The Fraunhofer diffraction pattern from a rectangular aperture, of height and width $D_x$ and $D_y$, where the screen is a distance $d$ from the aperture is \n",
    "\n",
    "$$\n",
    "    I(x,y) = I_0 \\mathrm{sinc}^2 \\left(\\frac{\\pi D_x x}{\\lambda d}\\right)\\mathrm{sinc}^2\\left(\\frac{\\pi D_y y}{\\lambda d}\\right) \n",
    "$$\n"
   ]
  },
  {
   "cell_type": "code",
   "execution_count": 92,
   "metadata": {},
   "outputs": [
    {
     "data": {
      "image/png": "[encoded data removed]",
      "text/plain": [
       "<Figure size 432x288 with 1 Axes>"
      ]
     },
     "metadata": {
      "needs_background": "light"
     },
     "output_type": "display_data"
    }
   ],
   "source": [
    "# Plot the diffraction pattern\n",
    "\n",
    "Dx = 1.6e-3\n",
    "Dy = 3.2e-3\n",
    "lamda = 500e-9\n",
    "d = 30\n",
    "\n",
    "x = np.linspace(-5e-2, 5e-2, 2000)\n",
    "y = np.linspace(-5e-2, 5e-2, 2000)\n",
    "xv, yv = np.meshgrid(x, y)\n",
    "\n",
    "# np.sinc = sin(pi*x)/(pi*x) \n",
    "\n",
    "def I_rect(x, y, Dx, Dy, lamda, d):\n",
    "    I0 = 1 # E.g\n",
    "    return I0*np.sinc(x = (Dx*x)/(lamda*d)) \\\n",
    "            *np.sinc(x = (Dy*y)/(lamda*d))\n",
    "\n",
    "plt.imshow(I_rect(xv, yv, Dx, Dy, lamda, d), cmap=\"gray\")\n",
    "plt.title(\"Diffraction from a rectangular aperture\")\n",
    "plt.show()\n",
    "\n",
    "# Could probably also use this to plot: matplotlib.pyplot.contourf\n",
    "                    "
   ]
  },
  {
   "cell_type": "markdown",
   "metadata": {},
   "source": [
    "### Diffraction from a circular aperture\n",
    "\n",
    "The Fraunhofer diffraction pattern from a circular aperture of diameter $D$ is\n",
    "\n",
    "$$\n",
    "    I(x,y) = I_0 \\left[\\frac{2J_1(\\pi D r / \\lambda d)}{\\pi Dr / \\lambda d}\\right]^2, \n",
    "$$\n",
    "\n",
    "where r = (x^2 + y^2)^(1/2) and $J_1$ is the Bessel function of the first kind of the order one. \n",
    "\n",
    "This diffraction pattern is known as the Airy Pattern. "
   ]
  },
  {
   "cell_type": "code",
   "execution_count": 110,
   "metadata": {},
   "outputs": [
    {
     "data": {
      "image/png": "[encoded data removed]",
      "text/plain": [
       "<Figure size 432x288 with 1 Axes>"
      ]
     },
     "metadata": {
      "needs_background": "light"
     },
     "output_type": "display_data"
    }
   ],
   "source": [
    "# Plot the diffraction pattern\n",
    "import scipy.special as sc\n",
    "\n",
    "# Bessel function from scipy.special( sc.j1(x) )!\n",
    "\n",
    "D = 160e-6\n",
    "d = 1\n",
    "\n",
    "x = np.linspace(-10e-3, 10e-3, 2000)\n",
    "y = np.linspace(-10e-3, 10e-3, 2000)\n",
    "xv, yv = np.meshgrid(x, y)\n",
    "\n",
    "def I_circ(x, y, D, lamda, d):\n",
    "    I0 = 1 # E.g\n",
    "    r = (x**2 + y**2)**(1/2)\n",
    "    return I0*((2*sc.j1((np.pi*D*r)/(lamda*d)))/ \\\n",
    "               ((np.pi*D*r)/(lamda*d)))**2\n",
    "\n",
    "\n",
    "plt.imshow(I_circ(xv, yv, D, lamda, d), cmap=\"RdBu\")\n",
    "plt.title(\"Diffraction from a circular aperture\")\n",
    "plt.show()\n",
    "\n",
    "# Could probably also use this to plot: matplotlib.pyplot.contourf"
   ]
  },
  {
   "cell_type": "markdown",
   "metadata": {},
   "source": [
    "#### Source for the theory from the two above diffraction patterns is [Wave optics (Fourier Optics) by Arnaud Dubois, October 2012, Insitut d'Optique Graduate School](http://paristech.institutoptique.fr/site.php?id=447&fileid=2933)"
   ]
  },
  {
   "cell_type": "code",
   "execution_count": null,
   "metadata": {},
   "outputs": [],
   "source": []
  }
 ],
 "metadata": {
  "kernelspec": {
   "display_name": "Python 3",
   "language": "python",
   "name": "python3"
  },
  "language_info": {
   "codemirror_mode": {
    "name": "ipython",
    "version": 3
   },
   "file_extension": ".py",
   "mimetype": "text/x-python",
   "name": "python",
   "nbconvert_exporter": "python",
   "pygments_lexer": "ipython3",
   "version": "3.7.6"
  }
 },
 "nbformat": 4,
 "nbformat_minor": 4
}
